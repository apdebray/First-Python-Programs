{
 "cells": [
  {
   "cell_type": "code",
   "execution_count": 1,
   "id": "b51becd9-e39c-47ab-a62d-d4b104406e8c",
   "metadata": {},
   "outputs": [],
   "source": [
    "import numpy as np #importing numpy for use\n",
    "import pandas as pd #pandas make sorting in dataframes easier "
   ]
  },
  {
   "cell_type": "code",
   "execution_count": 2,
   "id": "2ffb8966-0a32-4692-85f3-8259858e9bed",
   "metadata": {},
   "outputs": [
    {
     "data": {
      "text/plain": [
       "array([143,  91, 361, 250, 126, 320, 304, 138, 129, 189, 192, 179, 107,\n",
       "       149, 223, 157, 434, 461, 410, 185, 190, 393, 353, 264, 439, 132,\n",
       "       221, 249, 102, 443, 292, 230, 348,  65, 111, 358, 135, 257,  67,\n",
       "       453, 255,  25, 216, 222, 113, 253,  45, 457, 244, 479, 332, 230,\n",
       "       114,  49,  60, 252, 197, 385,  36, 314,  64,  79, 328,  31, 119,\n",
       "       229, 341, 202,   6, 350, 447, 491,  13,  16,  69, 152, 348, 360,\n",
       "       393,  63, 116, 329, 104, 378, 448,  54, 143, 467, 327,   9, 466,\n",
       "       219, 158,  40,  72, 345, 342,  73, 435, 284], dtype=int32)"
      ]
     },
     "execution_count": 2,
     "metadata": {},
     "output_type": "execute_result"
    }
   ],
   "source": [
    "big_array = np.random.randint(1, 501, size=100) #Creating a 500 number array\n",
    "big_array"
   ]
  },
  {
   "cell_type": "code",
   "execution_count": 3,
   "id": "e3e4f473-567f-478f-83de-c04ec80c3ab3",
   "metadata": {},
   "outputs": [
    {
     "data": {
      "text/plain": [
       "array([[143,  91, 361, 250, 126, 320, 304, 138, 129, 189],\n",
       "       [192, 179, 107, 149, 223, 157, 434, 461, 410, 185],\n",
       "       [190, 393, 353, 264, 439, 132, 221, 249, 102, 443],\n",
       "       [292, 230, 348,  65, 111, 358, 135, 257,  67, 453],\n",
       "       [255,  25, 216, 222, 113, 253,  45, 457, 244, 479],\n",
       "       [332, 230, 114,  49,  60, 252, 197, 385,  36, 314],\n",
       "       [ 64,  79, 328,  31, 119, 229, 341, 202,   6, 350],\n",
       "       [447, 491,  13,  16,  69, 152, 348, 360, 393,  63],\n",
       "       [116, 329, 104, 378, 448,  54, 143, 467, 327,   9],\n",
       "       [466, 219, 158,  40,  72, 345, 342,  73, 435, 284]], dtype=int32)"
      ]
     },
     "execution_count": 3,
     "metadata": {},
     "output_type": "execute_result"
    }
   ],
   "source": [
    "big_matrix = big_array.reshape(10, 10) #reshaping array into a 10x10 matrix\n",
    "big_matrix"
   ]
  },
  {
   "cell_type": "code",
   "execution_count": 4,
   "id": "4bc03af0-705d-4a5d-9725-6a0a7cec3cdc",
   "metadata": {},
   "outputs": [
    {
     "data": {
      "text/plain": [
       "array([361, 107, 353, 348, 216, 114, 328,  13, 104, 158], dtype=int32)"
      ]
     },
     "execution_count": 4,
     "metadata": {},
     "output_type": "execute_result"
    }
   ],
   "source": [
    "big_matrix[:, 2] #accessing the 3 column and printing it out"
   ]
  },
  {
   "cell_type": "code",
   "execution_count": 5,
   "id": "05020ae6-80bb-4f7a-b879-bcc5268fdea3",
   "metadata": {},
   "outputs": [
    {
     "data": {
      "text/plain": [
       "array([[149, 223, 157, 434, 461],\n",
       "       [264, 439, 132, 221, 249],\n",
       "       [ 65, 111, 358, 135, 257],\n",
       "       [222, 113, 253,  45, 457]], dtype=int32)"
      ]
     },
     "execution_count": 5,
     "metadata": {},
     "output_type": "execute_result"
    }
   ],
   "source": [
    "tiny_matrix = big_matrix[1:5, 3:8] #creating a smaller matrix of rows 2 to 5 and columns 4 to 8\n",
    "tiny_matrix"
   ]
  },
  {
   "cell_type": "code",
   "execution_count": 6,
   "id": "55c3121f-80dc-4e1e-959c-acb3012a6bd6",
   "metadata": {},
   "outputs": [
    {
     "name": "stdout",
     "output_type": "stream",
     "text": [
      "[361 250 320 304 223 434 461 410 393 353 264 439 221 249 443 292 230 348\n",
      " 358 257 453 255 216 222 253 457 244 479 332 230 252 385 314 328 229 341\n",
      " 202 350 447 491 348 360 393 329 378 448 467 327 466 219 345 342 435 284]\n"
     ]
    }
   ],
   "source": [
    "def big_matrix_over_200(): #creating a function to return all values over 200 in matrix\n",
    "    large_valuematrix = big_matrix[big_matrix>200]\n",
    "    print(large_valuematrix)\n",
    "    return\n",
    "big_matrix_over_200() "
   ]
  },
  {
   "cell_type": "code",
   "execution_count": 7,
   "id": "c5cb810f-71a8-4d7d-a738-010b4076a1ef",
   "metadata": {},
   "outputs": [
    {
     "data": {
      "text/plain": [
       "array([[143,  91, 361, 250, 126, 320, 304, 138, 129, 189],\n",
       "       [192, 179, 107, 149, 223, 157, 434, 461, 410, 185],\n",
       "       [190, 393, 353, 264, 439, 132, 221, 249, 102, 443],\n",
       "       [292, 230, 348,  65, 111, 358, 135, 257,  67, 453],\n",
       "       [255,  25, 216, 222, 113, 253,  45, 457, 244, 479],\n",
       "       [332, 230, 114,  49,  60, 252, 197, 385,  36, 314],\n",
       "       [ 64,  79, 328,  31, 119, 229, 341, 202,   6, 350],\n",
       "       [447, 491,  13,  16,  69, 152, 348, 360, 393,  63],\n",
       "       [116, 329, 104, 378, 448,  54, 143, 467, 327,   9],\n",
       "       [466, 219, 158,  40,  72, 345, 342,  73, 435, 284]], dtype=int32)"
      ]
     },
     "execution_count": 7,
     "metadata": {},
     "output_type": "execute_result"
    }
   ],
   "source": [
    "def big_matrix_under_100(): # Replace all elements less than 100 with 0\n",
    "    big_matrix[big_matrix < 100] = 0\n",
    "    return\n",
    "\n",
    "big_matrix"
   ]
  },
  {
   "cell_type": "code",
   "execution_count": 8,
   "id": "a9485102-d441-4ca7-9932-4f0bd71198d1",
   "metadata": {},
   "outputs": [
    {
     "name": "stdout",
     "output_type": "stream",
     "text": [
      "Standard Deviation: 138.75487595036074\n",
      "Mean: 228.38\n",
      "Median: 221.5\n",
      "Variance: 19252.915599999997\n"
     ]
    }
   ],
   "source": [
    "#BASIC STATS CALCULATIONS (I may need to make this more legible)\n",
    "std = np.std(big_matrix)\n",
    "var = np.var(big_matrix)\n",
    "mean = np.mean(big_matrix)\n",
    "med = np.median(big_matrix)\n",
    "\n",
    "print(f\"Standard Deviation: {std}\")\n",
    "print(f\"Mean: {mean}\")\n",
    "print(f\"Median: {med}\")\n",
    "print(f\"Variance: {var}\")"
   ]
  },
  {
   "cell_type": "code",
   "execution_count": 9,
   "id": "9c298f4e-cecb-469b-87ac-6621792cabf1",
   "metadata": {},
   "outputs": [
    {
     "name": "stdout",
     "output_type": "stream",
     "text": [
      "Row Means: [205.1 249.7 278.6 231.6 230.9 196.9 174.9 235.2 237.5 243.4]\n",
      "Column Means: [249.7 226.6 210.2 146.4 178.  225.2 251.  304.9 214.9 276.9]\n"
     ]
    }
   ],
   "source": [
    "#Mean of each row and column \n",
    "row_means = np.mean(big_matrix, axis=1)\n",
    "column_means = np.mean(big_matrix, axis=0)\n",
    "print(f\"Row Means: {row_means}\")\n",
    "print(f\"Column Means: {column_means}\")"
   ]
  },
  {
   "cell_type": "code",
   "execution_count": 10,
   "id": "49f5f300-f0bd-4478-9c05-e0abcd471a28",
   "metadata": {},
   "outputs": [
    {
     "data": {
      "text/plain": [
       "array([[ 91, 126, 129, 138, 143, 189, 250, 304, 320, 361],\n",
       "       [107, 149, 157, 179, 185, 192, 223, 410, 434, 461],\n",
       "       [102, 132, 190, 221, 249, 264, 353, 393, 439, 443],\n",
       "       [ 65,  67, 111, 135, 230, 257, 292, 348, 358, 453],\n",
       "       [ 25,  45, 113, 216, 222, 244, 253, 255, 457, 479],\n",
       "       [ 36,  49,  60, 114, 197, 230, 252, 314, 332, 385],\n",
       "       [  6,  31,  64,  79, 119, 202, 229, 328, 341, 350],\n",
       "       [ 13,  16,  63,  69, 152, 348, 360, 393, 447, 491],\n",
       "       [  9,  54, 104, 116, 143, 327, 329, 378, 448, 467],\n",
       "       [ 40,  72,  73, 158, 219, 284, 342, 345, 435, 466]], dtype=int32)"
      ]
     },
     "execution_count": 10,
     "metadata": {},
     "output_type": "execute_result"
    }
   ],
   "source": [
    "#Sorting each row of matrix in ascending order \n",
    "sorted_rows_ascend = np.sort(big_matrix, axis=1) \n",
    "sorted_rows_ascend\n"
   ]
  },
  {
   "cell_type": "code",
   "execution_count": 11,
   "id": "fe92920c-9ec1-41cb-9432-538c8021f532",
   "metadata": {},
   "outputs": [
    {
     "data": {
      "text/plain": [
       "array([[255,  25, 216, 222, 113, 253,  45, 457, 244, 479],\n",
       "       [ 64,  79, 328,  31, 119, 229, 341, 202,   6, 350],\n",
       "       [143,  91, 361, 250, 126, 320, 304, 138, 129, 189],\n",
       "       [192, 179, 107, 149, 223, 157, 434, 461, 410, 185],\n",
       "       [466, 219, 158,  40,  72, 345, 342,  73, 435, 284],\n",
       "       [332, 230, 114,  49,  60, 252, 197, 385,  36, 314],\n",
       "       [292, 230, 348,  65, 111, 358, 135, 257,  67, 453],\n",
       "       [116, 329, 104, 378, 448,  54, 143, 467, 327,   9],\n",
       "       [190, 393, 353, 264, 439, 132, 221, 249, 102, 443],\n",
       "       [447, 491,  13,  16,  69, 152, 348, 360, 393,  63]], dtype=int32)"
      ]
     },
     "execution_count": 11,
     "metadata": {},
     "output_type": "execute_result"
    }
   ],
   "source": [
    "sorted_by_2ndcol = big_matrix[big_matrix[:, 1].argsort()]\n",
    "sorted_by_2ndcol"
   ]
  },
  {
   "cell_type": "code",
   "execution_count": 12,
   "id": "4df6427b-eeae-452f-aa9c-ae4feed4138a",
   "metadata": {},
   "outputs": [],
   "source": [
    "#MOVING TO PART 2\n",
    "sales_data = np.array([[200, 250, 300, 150],  # Jan\n",
    "                       [180, 220, 280, 140],  # Feb\n",
    "                       [220, 270, 310, 170],  # Mar\n",
    "                       [210, 260, 330, 160],  # Apr\n",
    "                       [230, 280, 320, 180],  # May\n",
    "                       [190, 240, 300, 150],  # Jun\n",
    "                       [210, 260, 310, 160],  # Jul\n",
    "                       [250, 290, 340, 190],  # Aug\n",
    "                       [220, 270, 310, 170],  # Sep\n",
    "                       [230, 280, 320, 180],  # Oct\n",
    "                       [240, 290, 330, 190],  # Nov\n",
    "                       [260, 300, 340, 200]]) # Dec\n",
    "                                    "
   ]
  },
  {
   "cell_type": "code",
   "execution_count": 13,
   "id": "8b780dd5-6659-409c-ae4a-7f6818755f1e",
   "metadata": {},
   "outputs": [
    {
     "name": "stdout",
     "output_type": "stream",
     "text": [
      "p1 Sales: 2640\n",
      "p2 Sales: 3210\n",
      "p3 Sales: 3790\n",
      "p4 Sales: 2040\n"
     ]
    }
   ],
   "source": [
    "#Finding total sales for each product over year\n",
    "total_sales_p1 = np.sum(sales_data[:, 0])\n",
    "total_sales_p2 = np.sum(sales_data[:, 1])\n",
    "total_sales_p3 = np.sum(sales_data[:, 2])\n",
    "total_sales_p4 = np.sum(sales_data[:, 3])\n",
    "\n",
    "print(f\"p1 Sales: {total_sales_p1}\")\n",
    "print(f\"p2 Sales: {total_sales_p2}\")\n",
    "print(f\"p3 Sales: {total_sales_p3}\")\n",
    "print(f\"p4 Sales: {total_sales_p4}\")"
   ]
  },
  {
   "cell_type": "code",
   "execution_count": 14,
   "id": "ab593960-28bd-4328-b231-e170252d4b8f",
   "metadata": {},
   "outputs": [
    {
     "data": {
      "text/html": [
       "<div>\n",
       "<style scoped>\n",
       "    .dataframe tbody tr th:only-of-type {\n",
       "        vertical-align: middle;\n",
       "    }\n",
       "\n",
       "    .dataframe tbody tr th {\n",
       "        vertical-align: top;\n",
       "    }\n",
       "\n",
       "    .dataframe thead th {\n",
       "        text-align: right;\n",
       "    }\n",
       "</style>\n",
       "<table border=\"1\" class=\"dataframe\">\n",
       "  <thead>\n",
       "    <tr style=\"text-align: right;\">\n",
       "      <th></th>\n",
       "      <th>P1</th>\n",
       "      <th>P2</th>\n",
       "      <th>P3</th>\n",
       "      <th>P4</th>\n",
       "    </tr>\n",
       "  </thead>\n",
       "  <tbody>\n",
       "    <tr>\n",
       "      <th>Jan</th>\n",
       "      <td>200</td>\n",
       "      <td>250</td>\n",
       "      <td>300</td>\n",
       "      <td>150</td>\n",
       "    </tr>\n",
       "    <tr>\n",
       "      <th>Feb</th>\n",
       "      <td>180</td>\n",
       "      <td>220</td>\n",
       "      <td>280</td>\n",
       "      <td>140</td>\n",
       "    </tr>\n",
       "    <tr>\n",
       "      <th>Mar</th>\n",
       "      <td>220</td>\n",
       "      <td>270</td>\n",
       "      <td>310</td>\n",
       "      <td>170</td>\n",
       "    </tr>\n",
       "    <tr>\n",
       "      <th>Apr</th>\n",
       "      <td>210</td>\n",
       "      <td>260</td>\n",
       "      <td>330</td>\n",
       "      <td>160</td>\n",
       "    </tr>\n",
       "    <tr>\n",
       "      <th>May</th>\n",
       "      <td>230</td>\n",
       "      <td>280</td>\n",
       "      <td>320</td>\n",
       "      <td>180</td>\n",
       "    </tr>\n",
       "    <tr>\n",
       "      <th>Jun</th>\n",
       "      <td>190</td>\n",
       "      <td>240</td>\n",
       "      <td>300</td>\n",
       "      <td>150</td>\n",
       "    </tr>\n",
       "    <tr>\n",
       "      <th>Jul</th>\n",
       "      <td>210</td>\n",
       "      <td>260</td>\n",
       "      <td>310</td>\n",
       "      <td>160</td>\n",
       "    </tr>\n",
       "    <tr>\n",
       "      <th>Aug</th>\n",
       "      <td>250</td>\n",
       "      <td>290</td>\n",
       "      <td>340</td>\n",
       "      <td>190</td>\n",
       "    </tr>\n",
       "    <tr>\n",
       "      <th>Sep</th>\n",
       "      <td>220</td>\n",
       "      <td>270</td>\n",
       "      <td>310</td>\n",
       "      <td>170</td>\n",
       "    </tr>\n",
       "    <tr>\n",
       "      <th>Oct</th>\n",
       "      <td>230</td>\n",
       "      <td>280</td>\n",
       "      <td>320</td>\n",
       "      <td>180</td>\n",
       "    </tr>\n",
       "    <tr>\n",
       "      <th>Nov</th>\n",
       "      <td>240</td>\n",
       "      <td>290</td>\n",
       "      <td>330</td>\n",
       "      <td>190</td>\n",
       "    </tr>\n",
       "    <tr>\n",
       "      <th>Dec</th>\n",
       "      <td>260</td>\n",
       "      <td>300</td>\n",
       "      <td>340</td>\n",
       "      <td>200</td>\n",
       "    </tr>\n",
       "  </tbody>\n",
       "</table>\n",
       "</div>"
      ],
      "text/plain": [
       "      P1   P2   P3   P4\n",
       "Jan  200  250  300  150\n",
       "Feb  180  220  280  140\n",
       "Mar  220  270  310  170\n",
       "Apr  210  260  330  160\n",
       "May  230  280  320  180\n",
       "Jun  190  240  300  150\n",
       "Jul  210  260  310  160\n",
       "Aug  250  290  340  190\n",
       "Sep  220  270  310  170\n",
       "Oct  230  280  320  180\n",
       "Nov  240  290  330  190\n",
       "Dec  260  300  340  200"
      ]
     },
     "execution_count": 14,
     "metadata": {},
     "output_type": "execute_result"
    }
   ],
   "source": [
    "#Adding Products and row titles for Clarity, switching to pandas based calculations for ease here\n",
    "sales_data2 = pd.DataFrame(sales_data, columns = ['P1', 'P2', 'P3', 'P4'], index = ['Jan', 'Feb', 'Mar', 'Apr', 'May', 'Jun', 'Jul', 'Aug', 'Sep', 'Oct', 'Nov', 'Dec']) \n",
    "sales_data2"
   ]
  },
  {
   "cell_type": "code",
   "execution_count": 15,
   "id": "9219f621-bfea-4c15-a07c-af4ce2ec840e",
   "metadata": {},
   "outputs": [
    {
     "name": "stdout",
     "output_type": "stream",
     "text": [
      "Maximum sales for P1: 260\n",
      "Maximum sales for P2: 300\n",
      "Maximum sales for P3: 300\n",
      "Maximum sales for P4: 300\n"
     ]
    }
   ],
   "source": [
    "#Month with highest sales for each product \n",
    "max_sales_p1 = sales_data2['P1'].max()\n",
    "max_sales_p2 = sales_data2['P2'].max()\n",
    "max_sales_p3 = sales_data2['P2'].max()\n",
    "max_sales_p4 = sales_data2['P2'].max()\n",
    "\n",
    "print(\"Maximum sales for P1:\", max_sales_p1)\n",
    "print(\"Maximum sales for P2:\", max_sales_p2)\n",
    "print(\"Maximum sales for P3:\", max_sales_p3)\n",
    "print(\"Maximum sales for P4:\", max_sales_p4)"
   ]
  },
  {
   "cell_type": "code",
   "execution_count": 16,
   "id": "9e563855-efd2-4858-834e-398b1d5a2d85",
   "metadata": {},
   "outputs": [
    {
     "name": "stdout",
     "output_type": "stream",
     "text": [
      "Avg Jan sales: 225.0\n",
      "Avg Feb sales: 205.0\n",
      "Avg Mar sales: 242.5\n",
      "Avg Apr sales: 240.0\n",
      "Avg May sales: 252.5\n",
      "Avg Jun sales: 220.0\n",
      "Avg Jul sales: 235.0\n",
      "Avg Aug sales: 267.5\n",
      "Avg Sep sales: 242.5\n",
      "Avg Oct sales: 252.5\n",
      "Avg Nov sales: 262.5\n",
      "Avg Dec sales: 275.0\n"
     ]
    }
   ],
   "source": [
    "#Average sales per month for all products -- wasted time here created a more efficient function below\n",
    "avg_Jan_sales = sales_data2.loc['Jan'].mean()\n",
    "avg_Feb_sales = sales_data2.loc['Feb'].mean()\n",
    "avg_Mar_sales = sales_data2.loc['Mar'].mean()\n",
    "avg_Apr_sales = sales_data2.loc['Apr'].mean()\n",
    "avg_May_sales = sales_data2.loc['May'].mean()\n",
    "avg_Jun_sales = sales_data2.loc['Jun'].mean()\n",
    "avg_Jul_sales = sales_data2.loc['Jul'].mean()\n",
    "avg_Aug_sales = sales_data2.loc['Aug'].mean()\n",
    "avg_Sep_sales = sales_data2.loc['Sep'].mean()\n",
    "avg_Oct_sales = sales_data2.loc['Oct'].mean()\n",
    "avg_Nov_sales = sales_data2.loc['Nov'].mean()\n",
    "avg_Dec_sales = sales_data2.loc['Dec'].mean()\n",
    "\n",
    "print(\"Avg Jan sales:\", avg_Jan_sales)\n",
    "print(\"Avg Feb sales:\", avg_Feb_sales)\n",
    "print(\"Avg Mar sales:\", avg_Mar_sales)\n",
    "print(\"Avg Apr sales:\", avg_Apr_sales)\n",
    "print(\"Avg May sales:\", avg_May_sales)\n",
    "print(\"Avg Jun sales:\", avg_Jun_sales)\n",
    "print(\"Avg Jul sales:\", avg_Jul_sales)\n",
    "print(\"Avg Aug sales:\", avg_Aug_sales)\n",
    "print(\"Avg Sep sales:\", avg_Sep_sales)\n",
    "print(\"Avg Oct sales:\", avg_Oct_sales)\n",
    "print(\"Avg Nov sales:\", avg_Nov_sales)\n",
    "print(\"Avg Dec sales:\", avg_Dec_sales)"
   ]
  },
  {
   "cell_type": "code",
   "execution_count": 17,
   "id": "7ee80c8a-d2be-4def-93f2-43a8738fedf4",
   "metadata": {},
   "outputs": [
    {
     "name": "stdout",
     "output_type": "stream",
     "text": [
      "Average sales per month:\n",
      " Jan    225.0\n",
      "Feb    205.0\n",
      "Mar    242.5\n",
      "Apr    240.0\n",
      "May    252.5\n",
      "Jun    220.0\n",
      "Jul    235.0\n",
      "Aug    267.5\n",
      "Sep    242.5\n",
      "Oct    252.5\n",
      "Nov    262.5\n",
      "Dec    275.0\n",
      "dtype: float64\n"
     ]
    }
   ],
   "source": [
    "#Average sales per month MORE EFFICIENT \n",
    "avg_sales_per_month = sales_data2.mean(axis=1)\n",
    "\n",
    "print(\"Average sales per month:\\n\", avg_sales_per_month)"
   ]
  },
  {
   "cell_type": "code",
   "execution_count": 18,
   "id": "71013308-5606-4783-8644-8ba144111bdb",
   "metadata": {},
   "outputs": [
    {
     "name": "stdout",
     "output_type": "stream",
     "text": [
      "The month with the highest average sales is Dec, with an average sales value of 275.0.\n"
     ]
    }
   ],
   "source": [
    "#Finding month with highest average sales \n",
    "max_avg_sales = avg_sales_per_month.max()  # Maximum value\n",
    "max_avg_sales_month = avg_sales_per_month.idxmax()  # Month corresponding to the maximum\n",
    "\n",
    "print(f\"The month with the highest average sales is {max_avg_sales_month}, with an average sales value of {max_avg_sales}.\")"
   ]
  },
  {
   "cell_type": "code",
   "execution_count": 19,
   "id": "e637dff5-8f5d-4f66-9967-2b5c531ec030",
   "metadata": {},
   "outputs": [
    {
     "name": "stdout",
     "output_type": "stream",
     "text": [
      "   Basic Customers\n",
      "0              233\n",
      "1              122\n",
      "2              170\n",
      "3              152\n",
      "4              203\n",
      "   Silver Customers\n",
      "0               261\n",
      "1               321\n",
      "2               260\n",
      "3               196\n",
      "4               106\n",
      "   Gold Customers\n",
      "0             371\n",
      "1             531\n",
      "2             527\n",
      "3             452\n",
      "4             441\n"
     ]
    }
   ],
   "source": [
    "#MOVING INTO CUSTOMER SEGMENTATION \n",
    "basic_customers = np.random.randint(50, 251, size=50)\n",
    "silver_customers = np.random.randint(100, 351, size=50)\n",
    "gold_customers = np.random.randint(200, 551, size=50)\n",
    "\n",
    "# Converting into pandas DataFrames and storing them in variables\n",
    "df_basic_customers = pd.DataFrame(basic_customers, columns=['Basic Customers'])\n",
    "df_silver_customers = pd.DataFrame(silver_customers, columns=['Silver Customers'])\n",
    "df_gold_customers = pd.DataFrame(gold_customers, columns=['Gold Customers'])\n",
    "\n",
    "print(df_basic_customers.head())\n",
    "print(df_silver_customers.head())\n",
    "print(df_gold_customers.head())"
   ]
  },
  {
   "cell_type": "code",
   "execution_count": 20,
   "id": "5bfa67fb-2f77-4373-95cc-fdb7ba6f4cfb",
   "metadata": {},
   "outputs": [
    {
     "name": "stdout",
     "output_type": "stream",
     "text": [
      "Average spending for basic customers: 145.54\n",
      "Average spending for silver customers: 237.44\n",
      "Average spending for gold customers: 390.06\n"
     ]
    }
   ],
   "source": [
    "#average spending customers\n",
    "basic_spending = df_basic_customers['Basic Customers'].mean()\n",
    "silver_spending = df_silver_customers['Silver Customers'].mean()\n",
    "gold_spending = df_gold_customers['Gold Customers'].mean()\n",
    "\n",
    "print(f\"Average spending for basic customers: {basic_spending:.2f}\")\n",
    "print(f\"Average spending for silver customers: {silver_spending:.2f}\")\n",
    "print(f\"Average spending for gold customers: {gold_spending:.2f}\")"
   ]
  },
  {
   "cell_type": "code",
   "execution_count": 21,
   "id": "e61161b9-2d7a-4da2-8d73-c4ebdeb3dc31",
   "metadata": {
    "scrolled": true
   },
   "outputs": [
    {
     "name": "stdout",
     "output_type": "stream",
     "text": [
      "Percentage of basic customers who spend more than $250: 0.00%\n",
      "Percentage of silver customers who spend more than $250: 52.00%\n",
      "Percentage of gold customers who spend more than $250: 96.00%\n"
     ]
    }
   ],
   "source": [
    "#percentage of customers who spend more than $250\n",
    "\n",
    "basic_250_count = (df_basic_customers['Basic Customers'] > 250).sum()\n",
    "silver_250_count = (df_silver_customers['Silver Customers'] > 250).sum()\n",
    "gold_250_count = (df_gold_customers['Gold Customers'] > 250).sum()\n",
    "\n",
    "basic_250_perc= (basic_250_count / len(df_basic_customers)) * 100\n",
    "silver_250_perc= (silver_250_count / len(df_silver_customers)) * 100\n",
    "gold_250_perc= (gold_250_count / len(df_gold_customers)) * 100 #calculating percentage \n",
    "\n",
    "print(f\"Percentage of basic customers who spend more than $250: {basic_250_perc:.2f}%\")\n",
    "print(f\"Percentage of silver customers who spend more than $250: {silver_250_perc:.2f}%\")\n",
    "print(f\"Percentage of gold customers who spend more than $250: {gold_250_perc:.2f}%\")\n"
   ]
  },
  {
   "cell_type": "code",
   "execution_count": 22,
   "id": "0b33becc-55a1-414d-a265-4183b7da4007",
   "metadata": {},
   "outputs": [
    {
     "name": "stdout",
     "output_type": "stream",
     "text": [
      "    Basic Customers  Silver Customers  Gold Customers\n",
      "0               233               261             371\n",
      "1               122               321             531\n",
      "2               170               260             527\n",
      "3               152               196             452\n",
      "4               203               106             441\n",
      "5                56               114             462\n",
      "6                85               328             507\n",
      "7               172               111             495\n",
      "8               176               132             441\n",
      "9                52               150             299\n",
      "10              222               218             351\n",
      "11              176               341             325\n",
      "12              224               100             461\n",
      "13              165               310             356\n",
      "14               86               240             314\n",
      "15               75               329             480\n",
      "16              247               128             458\n",
      "17              185               184             242\n",
      "18              145               324             271\n",
      "19              126               127             286\n",
      "20              168               325             268\n",
      "21               91               319             335\n",
      "22               74               330             304\n",
      "23              154               326             348\n",
      "24              249               327             302\n",
      "25               83               312             435\n",
      "26              127               179             412\n",
      "27               61               240             502\n",
      "28              125               307             449\n",
      "29               75               100             511\n",
      "30              214               178             534\n",
      "31              203               303             349\n",
      "32              216               159             319\n",
      "33              113               346             379\n",
      "34               72               195             485\n",
      "35              194               305             255\n",
      "36               89               347             291\n",
      "37              149               302             488\n",
      "38              150               313             362\n",
      "39              181               132             274\n",
      "40              188               171             238\n",
      "41              191               311             252\n",
      "42              188               102             387\n",
      "43               59               312             535\n",
      "44              141               259             512\n",
      "45              105               274             432\n",
      "46               78               173             285\n",
      "47              156               100             336\n",
      "48              127               322             533\n",
      "49              184               223             321\n"
     ]
    }
   ],
   "source": [
    "#Creating an Array with all three \n",
    "#Concatenate the DataFrames side by side (along columns)\n",
    "df_all = pd.concat([df_basic_customers, df_silver_customers, df_gold_customers], axis=1)\n",
    "\n",
    "#Rename the columns for clarity\n",
    "df_all.columns = ['Basic Customers', 'Silver Customers', 'Gold Customers']\n",
    "print(df_all)\n"
   ]
  },
  {
   "cell_type": "code",
   "execution_count": 23,
   "id": "957296fa-a7eb-420d-b258-04b1e37a672e",
   "metadata": {},
   "outputs": [
    {
     "name": "stdout",
     "output_type": "stream",
     "text": [
      "The average spending across all customer types was $ 257.68\n",
      "The standard deviation of spending across all customer types was $ 129.08\n"
     ]
    }
   ],
   "source": [
    "# Calculate the overall mean and standard deviation (flattening all values into one series)\n",
    "mean_spend = df_all.mean().mean()  # Mean of each column and then mean of that value\n",
    "stddev_spend = df_all.stack().std()  # Standard deviation across all values\n",
    "\n",
    "print(f\"The average spending across all customer types was $ {mean_spend:.2f}\")\n",
    "print(f\"The standard deviation of spending across all customer types was $ {stddev_spend:.2f}\")\n"
   ]
  },
  {
   "cell_type": "code",
   "execution_count": 24,
   "id": "15096b48-c917-456f-a53f-b5cbf4d5a30c",
   "metadata": {},
   "outputs": [],
   "source": [
    "#MATRIX Operations\n",
    "A = np.random.randint(1,51, size=9) \n",
    "B = np.random.randint(1,51, size=9)\n",
    "\n",
    "A_mat = pd.DataFrame(A.reshape(3, 3)) #converting to pandas for matrices \n",
    "B_mat = pd.DataFrame(B.reshape(3, 3))"
   ]
  },
  {
   "cell_type": "code",
   "execution_count": 25,
   "id": "7029fae9-720a-4d8e-902f-348423e1e164",
   "metadata": {},
   "outputs": [],
   "source": [
    "#calculating product of A and B **element wise \n",
    "\n",
    "productAB = A_mat * B_mat"
   ]
  },
  {
   "cell_type": "code",
   "execution_count": 26,
   "id": "24d93f1d-0fec-4515-a254-aae8ab7a8528",
   "metadata": {},
   "outputs": [
    {
     "name": "stdout",
     "output_type": "stream",
     "text": [
      "Matrix A:\n",
      "    0   1   2\n",
      "0  17  28  24\n",
      "1  33  17   8\n",
      "2   5  10  24\n",
      "\n",
      "Matrix B:\n",
      "    0   1   2\n",
      "0  10  31   4\n",
      "1  23   1  18\n",
      "2  39  16  40\n",
      "\n",
      "Element-wise product of A and B:\n",
      "     0    1    2\n",
      "0  170  868   96\n",
      "1  759   17  144\n",
      "2  195  160  960\n",
      "\n",
      "Matrix multiplication (dot product) of A and B:\n",
      "      0     1     2\n",
      "0  1750   939  1532\n",
      "1  1033  1168   758\n",
      "2  1216   549  1160\n"
     ]
    }
   ],
   "source": [
    "#matrix multiplication of A and B\n",
    "matrix_multiplication = np.dot(A_mat, B_mat)\n",
    "\n",
    "print(\"Matrix A:\")\n",
    "print(A_mat)\n",
    "\n",
    "print(\"\\nMatrix B:\")\n",
    "print(B_mat)\n",
    "\n",
    "print(\"\\nElement-wise product of A and B:\")\n",
    "print(pd.DataFrame(productAB))\n",
    "\n",
    "print(\"\\nMatrix multiplication (dot product) of A and B:\")\n",
    "print(pd.DataFrame(matrix_multiplication))"
   ]
  },
  {
   "cell_type": "code",
   "execution_count": 27,
   "id": "e6887373-968c-4ce9-bc42-8e3e8e8bfd92",
   "metadata": {},
   "outputs": [
    {
     "name": "stdout",
     "output_type": "stream",
     "text": [
      "Original 2x2 Matrix:\n",
      "[[3 8]\n",
      " [1 4]]\n",
      "\n",
      "Determinant of the matrix: 4.000000000000001\n",
      "\n",
      "Inverse of the matrix:\n",
      "[[ 1.   -2.  ]\n",
      " [-0.25  0.75]]\n",
      "\n",
      "Matrix multiplied by its inverse (should be the identity matrix):\n",
      "[[1.0000000e+00 8.8817842e-16]\n",
      " [0.0000000e+00 1.0000000e+00]]\n"
     ]
    }
   ],
   "source": [
    "# Create a 2x2 matrix\n",
    "matrix_2x2 = np.array([[3, 8],\n",
    "                       [1, 4]])\n",
    "\n",
    "#Find the determinant\n",
    "determinant = np.linalg.det(matrix_2x2)\n",
    "\n",
    "#Calculate the inverse\n",
    "if determinant != 0:\n",
    "    inverse_matrix = np.linalg.inv(matrix_2x2)\n",
    "else:\n",
    "    inverse_matrix = None\n",
    "\n",
    "#Verify matrix multiplied by inverse gives the identity matrix\n",
    "if inverse_matrix is not None:\n",
    "    identity_matrix = np.dot(matrix_2x2, inverse_matrix)\n",
    "else:\n",
    "    identity_matrix = None\n",
    "\n",
    "print(\"Original 2x2 Matrix:\")\n",
    "print(matrix_2x2)\n",
    "\n",
    "print(\"\\nDeterminant of the matrix:\", determinant)\n",
    "\n",
    "if inverse_matrix is not None:\n",
    "    print(\"\\nInverse of the matrix:\")\n",
    "    print(inverse_matrix)\n",
    "\n",
    "    print(\"\\nMatrix multiplied by its inverse (should be the identity matrix):\")\n",
    "    print(identity_matrix)\n",
    "else:\n",
    "    print(\"\\nThe matrix does not have an inverse (determinant is zero).\")\n"
   ]
  },
  {
   "cell_type": "code",
   "execution_count": 28,
   "id": "1426efbd-a05b-4118-b119-11bdbac0e79d",
   "metadata": {},
   "outputs": [
    {
     "name": "stdout",
     "output_type": "stream",
     "text": [
      "Slope (m): 2.3666666666666667\n",
      "Intercept (b): -7.666666666666667\n",
      "The equation of the best-fit line is: y = 2.37x + -7.67\n"
     ]
    }
   ],
   "source": [
    "#Linear Regression Analyis method with equation y = mx + b\n",
    "x = np.array([10, 20, 30, 40, 50, 60, 70, 80, 90, 100])\n",
    "y = np.array([25, 45, 65, 80, 100, 130, 150, 180, 210, 240])\n",
    "\n",
    "# Number of data points\n",
    "n = len(x)\n",
    "\n",
    "# Calculating the sums needed for the formulas\n",
    "sum_x = np.sum(x)\n",
    "sum_y = np.sum(y)\n",
    "sum_xy = np.sum(x * y)\n",
    "sum_x2 = np.sum(x ** 2)\n",
    "\n",
    "# Calculating the slope (m) and intercept (b)\n",
    "m = (n * sum_xy - sum_x * sum_y) / (n * sum_x2 - sum_x ** 2) #using slope formula from lab handout \n",
    "b = (sum_y * sum_x2 - sum_x * sum_xy) / (n * sum_x2 - sum_x ** 2) #intercept formula\n",
    "\n",
    "# Displaying the results\n",
    "print(f\"Slope (m): {m}\")\n",
    "print(f\"Intercept (b): {b}\")\n",
    "\n",
    "# Using the slope and intercept to calculate the predicted y values (y = mx + b)\n",
    "y_pred = m * x + b\n",
    "\n",
    "# Display the best-fit line equation\n",
    "print(f\"The equation of the best-fit line is: y = {m:.2f}x + {b:.2f}\")"
   ]
  },
  {
   "cell_type": "code",
   "execution_count": 29,
   "id": "c002c9b8-462b-48d2-b7a7-e9b557ecab39",
   "metadata": {},
   "outputs": [
    {
     "name": "stdout",
     "output_type": "stream",
     "text": [
      "Predicted sales for an advertising budget of 120: 276.33\n"
     ]
    }
   ],
   "source": [
    "#Calculating for 120 using m and c \n",
    "advertising = 120\n",
    "\n",
    "sales_predict = m * advertising + b \n",
    "\n",
    "print(f\"Predicted sales for an advertising budget of {advertising}: {sales_predict:.2f}\")"
   ]
  },
  {
   "cell_type": "code",
   "execution_count": 30,
   "id": "a2d04b06-c715-462c-82f2-733163117a67",
   "metadata": {},
   "outputs": [
    {
     "name": "stdout",
     "output_type": "stream",
     "text": [
      "Mean Squared Error (MSE) of the regression model: 50.3333\n"
     ]
    }
   ],
   "source": [
    "#Calculate the mean squared error (MSE) of the regression model.\n",
    "mse = np.mean((y - y_pred) ** 2)\n",
    "\n",
    "# Print the result\n",
    "print(f\"Mean Squared Error (MSE) of the regression model: {mse:.4f}\")"
   ]
  }
 ],
 "metadata": {
  "kernelspec": {
   "display_name": "Python 3 (ipykernel)",
   "language": "python",
   "name": "python3"
  },
  "language_info": {
   "codemirror_mode": {
    "name": "ipython",
    "version": 3
   },
   "file_extension": ".py",
   "mimetype": "text/x-python",
   "name": "python",
   "nbconvert_exporter": "python",
   "pygments_lexer": "ipython3",
   "version": "3.12.6"
  }
 },
 "nbformat": 4,
 "nbformat_minor": 5
}
